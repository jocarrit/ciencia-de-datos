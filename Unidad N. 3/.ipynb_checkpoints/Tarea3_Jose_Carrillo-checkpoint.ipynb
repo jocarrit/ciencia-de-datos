{
 "cells": [
  {
   "cell_type": "markdown",
   "metadata": {},
   "source": [
    " # Tarea # 3\n",
    " ## Ejercicio 1\n",
    " Se supone que una Factura que tiene los siguientes atributos: nombre cliente,\n",
    " direccion cliente, monto total, porcentaje impuesto y un metodo total pagar\n",
    " = monto total + porcentaje impuesto * monto total. Programe una clase al estilo\n",
    " propio de Python que tenga los atributos citados arriba como privados con sus\n",
    " respectivos métodos para obtener y modificar dichos atributos."
   ]
  },
  {
   "cell_type": "markdown",
   "metadata": {},
   "source": [
    " ### Imports"
   ]
  },
  {
   "cell_type": "code",
   "execution_count": 91,
   "metadata": {},
   "outputs": [],
   "source": [
    "from datetime import datetime, timedelta\n",
    "import pandas as pd\n",
    "import numpy as np\n",
    "import os\n",
    "os.getcwd()\n",
    "os.chdir(r'c:\\\\Users\\\\jocarr3\\\\Documents\\\\projects\\\\ciencia de datos python\\\\Unidad N. 3')"
   ]
  },
  {
   "cell_type": "markdown",
   "metadata": {},
   "source": [
    " ### Código de la Clase"
   ]
  },
  {
   "cell_type": "code",
   "execution_count": 92,
   "metadata": {},
   "outputs": [],
   "source": [
    "class Factura(object):\n",
    "    def __init__(self, nombre_cliente, direccion_cliente, monto_total):\n",
    "        self.__nombre_cliente = nombre_cliente\n",
    "        self.__direccion_cliente = direccion_cliente\n",
    "        self.__monto_total = monto_total\n",
    "        self.__porcentaje_impuesto = 0.13\n",
    "    \n",
    "    @property\n",
    "    def nombre_cliente(self):\n",
    "        return self.__nombre_cliente\n",
    "    \n",
    "    @nombre_cliente.setter\n",
    "    def nombre_cliente(self, nuevo_nombre):\n",
    "        self.__nombre_cliente = nuevo_nombre\n",
    "    \n",
    "    @property\n",
    "    def direccion_cliente(self):\n",
    "        return self.__direccion_cliente\n",
    "    \n",
    "    @direccion_cliente.setter\n",
    "    def direccion_cliente(self, nueva_direccion):\n",
    "        self.__direccion_cliente = nueva_direccion\n",
    "    \n",
    "    @property\n",
    "    def monto_total(self):\n",
    "        return self.__monto_total\n",
    "\n",
    "    @monto_total.setter\n",
    "    def monto_total(self, nuevo_monto):\n",
    "        self.__monto_total = nuevo_monto\n",
    "\n",
    "    @property\n",
    "    def porcentaje_impuesto(self):\n",
    "        return self.__porcentaje_impuesto\n",
    "\n",
    "    @porcentaje_impuesto.setter\n",
    "    def porcentaje_impuesto(self, nuevo_impuesto):\n",
    "        self.__porcentaje_impuesto = nuevo_impuesto\n",
    "\n",
    "    def total_pagar(self):\n",
    "        return self.monto_total + self.monto_total*self.porcentaje_impuesto\n"
   ]
  },
  {
   "cell_type": "markdown",
   "metadata": {},
   "source": [
    " ### Instancia y prueba"
   ]
  },
  {
   "cell_type": "code",
   "execution_count": 93,
   "metadata": {},
   "outputs": [
    {
     "name": "stdout",
     "output_type": "stream",
     "text": [
      "El monto total a pagar es c1130.0\n"
     ]
    }
   ],
   "source": [
    "f = Factura(\"Guido V\", \"Palo Alto\", 1000)\n",
    "print(f\"El monto total a pagar es c{f.total_pagar()}\")\n"
   ]
  },
  {
   "cell_type": "markdown",
   "metadata": {},
   "source": [
    " ## Ejercicio # 2\n",
    " Programe una clase en Python que tiene tres atributos (números) A, B, y C y\n",
    " métodos para retornar el menor, el mayor, la suma de los tres y suma\n",
    " cuadrados = A^2 + B^2 + C^2\n",
    " ### Código de la clase"
   ]
  },
  {
   "cell_type": "code",
   "execution_count": 94,
   "metadata": {},
   "outputs": [],
   "source": [
    "class Mate(object):\n",
    "    def __init__(self, A, B, C):\n",
    "        self.__A = A\n",
    "        self.__B = B\n",
    "        self.__C = C\n",
    "\n",
    "    @property\n",
    "    def A(self):\n",
    "        return self.__A\n",
    "\n",
    "    @A.setter\n",
    "    def A(self, new_A):\n",
    "        self.__A = new_A\n",
    "\n",
    "    @property\n",
    "    def B(self):\n",
    "        return self.__B\n",
    "\n",
    "    @B.setter\n",
    "    def B(self, new_B):\n",
    "        self.__B = new_B\n",
    "\n",
    "    @property\n",
    "    def C(self):\n",
    "        return self.__C\n",
    "\n",
    "    @C.setter\n",
    "    def C(self, new_C):\n",
    "        print(\"entro\")\n",
    "        self.__C = new_C\n",
    "\n",
    "    def menor(self):\n",
    "        return min(self.A, self.B, self.C)\n",
    "\n",
    "    def mayor(self):\n",
    "        return max(self.A, self.B, self.C)\n",
    "\n",
    "    def suma(self):\n",
    "        return self.A + self.B + self.C\n",
    "\n",
    "    def suma_cuadrados(self):\n",
    "        return self.A**2 + self.B**2 + self.C**2\n"
   ]
  },
  {
   "cell_type": "markdown",
   "metadata": {},
   "source": [
    " ### Instancia y pruebas"
   ]
  },
  {
   "cell_type": "code",
   "execution_count": 95,
   "metadata": {},
   "outputs": [
    {
     "name": "stdout",
     "output_type": "stream",
     "text": [
      "El menor entre 4, 5 y 6 es : 4\n",
      "El mayor entre 4, 5 y 6 es : 6\n",
      "La suma entre 4, 5 y 6 es : 15\n",
      "La suma de cuadrados entre 4, 5 y 6 es : 77\n"
     ]
    }
   ],
   "source": [
    "a = 4\n",
    "b = 5\n",
    "c = 6\n",
    "m = Mate(a, b, c)\n",
    "m.menor()\n",
    "print(f\"El menor entre {a}, {b} y {c} es : {m.menor()}\")\n",
    "print(f\"El mayor entre {a}, {b} y {c} es : {m.mayor()}\")\n",
    "print(f\"La suma entre {a}, {b} y {c} es : {m.suma()}\")\n",
    "print(f\"La suma de cuadrados entre {a}, {b} y {c} es : {m.suma_cuadrados()}\")\n",
    "\n"
   ]
  },
  {
   "cell_type": "markdown",
   "metadata": {},
   "source": [
    " ## Ejercicio # 3\n",
    " Una línea aérea desea implementar un sistema para el control de sus vuelos,\n",
    " para esto se cuenta con la siguiente información:\n",
    " * Se supone que un Vuelo tiene los siguientes atributos: Numero, Hora de Salida y Hora de\n",
    " Llegada.\n",
    " * Un Vuelo Local (USA) tiene ademas (respecto a un Vuelo) un Numero Mınimo de Pasajeros.\n",
    " * Un Vuelo Internacional tiene ademas (respecto a un Vuelo) un Paıs Destino.\n",
    " * Un Vuelo de Carga tiene ademas (respecto a un Vuelo) un Peso Maximo de carga soportado.\n",
    " * Un Pasajero tiene Codigo, Nombre, Precio Boleto, Porcentaje Impuesto y\n",
    " Total a Pagar = Precio Boleto + Porcentaje Impuesto * Precio Boleto. Los pasajeros son de dos tipos:\n",
    " * los Pasajero Frecuente y los No Frecuentes, la diferencia es que a los pasajeros frecuentes\n",
    " se les aplica un 20 % de descuento en el Total a Pagar.\n",
    " * La clase Vuelo Local incluye un atributo tipo Pasajero Frecuente mientras que la clase Vuelo\n",
    " Internacional incluye un atributo tipo Pasajero.\n",
    " * Programe una Jerarquıa de Clases usando herencia que incluya al menos las clases: Vuelo, Vuelo\n",
    " Local, Vuelo Internacional, Vuelo de Carga, Pasajero y Pasajero Frecuente.\n",
    " ### Código de la clase"
   ]
  },
  {
   "cell_type": "code",
   "execution_count": 96,
   "metadata": {},
   "outputs": [],
   "source": [
    "class Pasajero(object):\n",
    "    def __init__(self, codigo, nombre, precio_boleto):\n",
    "        self.__codigo = codigo\n",
    "        self.__nombre = nombre\n",
    "        self.__precio_boleto = precio_boleto\n",
    "        self.__porcentaje_impuesto = 0.13\n",
    "        self.__total_pagar = 0\n",
    "    \n",
    "    @property\n",
    "    def codigo(self):\n",
    "        return self.codigo\n",
    "    \n",
    "    @property\n",
    "    def nombre(self):\n",
    "        return self.__nombre\n",
    "    \n",
    "    @nombre.setter\n",
    "    def nombre(self, nuevo_nombre):\n",
    "        self.__nombre = nuevo_nombre\n",
    "\n",
    "    @property\n",
    "    def precio_boleto(self):\n",
    "        return self.__precio_boleto\n",
    "    \n",
    "    @precio_boleto.setter\n",
    "    def precio_boleto(self, nuevo_precio):\n",
    "        self.precio_boleto = nuevo_precio\n",
    "    \n",
    "    @property\n",
    "    def porcentaje_impuesto(self):\n",
    "        return self.__porcentaje_impuesto\n",
    "    \n",
    "    @property\n",
    "    def total_pagar(self):\n",
    "        return self.__total_pagar\n",
    "    \n",
    "    @total_pagar.setter\n",
    "    def total_pagar(self, nuevo_total):\n",
    "        nuevo_total = self.precio_boleto + self.porcentaje_impuesto*self.precio_boleto\n",
    "        self.__total_pagar = nuevo_total\n",
    "     \n",
    "class Pasajero_Frecuente(Pasajero):\n",
    "    def __init__(self, codigo, nombre, precio_boleto):\n",
    "        super().__init__(codigo, nombre, precio_boleto)\n",
    "        self.total_pagar = self.total_pagar*.2\n",
    "    \n",
    "    def describe(self):\n",
    "        print(f\"Código - {self.codigo} \\n Nombre - {self.nombre}\")\n",
    "\n",
    "class Vuelo(object):\n",
    "    def __init__(self, numero, hora_salida, hora_llegada):\n",
    "        self.__numero = numero\n",
    "        self.__hora_salida = hora_salida\n",
    "        self.__hora_llegada = hora_llegada\n",
    "    \n",
    "    @property\n",
    "    def numero(self):\n",
    "        return self.__numero\n",
    "    \n",
    "    @property\n",
    "    def hora_salida(self):\n",
    "        return self.__hora_salida\n",
    "    \n",
    "    @property\n",
    "    def hora_llegada(self):\n",
    "        return self.__hora_llegada\n",
    "    \n",
    "    @numero.setter\n",
    "    def numero(self, nuevo_numero):\n",
    "        self.__numero = nuevo_numero\n",
    "\n",
    "    @hora_salida.setter\n",
    "    def hora_salida(self, nueva_hora_salida):\n",
    "        self.__hora_salida = nueva_hora_salida\n",
    "    \n",
    "    @hora_llegada.setter\n",
    "    def hora_llegada(self, nueva_hora_llegada):\n",
    "        self.__hora_llegada = nueva_hora_llegada\n",
    "\n",
    "class Vuelo_Local(Vuelo):\n",
    "    def __init__(self, numero, hora_salida, hora_llegada, minimo_pasajeros, codigo, nombre, precio_boleto):\n",
    "        super().__init__(numero, hora_salida, hora_llegada)\n",
    "        self.__minimo_pasajeros = minimo_pasajeros\n",
    "        self.pasajero_frecuente = Pasajero_Frecuente(codigo, nombre, precio_boleto)\n",
    "\n",
    "    \n",
    "    @property\n",
    "    def minimo_pasajeros(self):\n",
    "        return self.__minimo_pasajeros\n",
    "    \n",
    "    @minimo_pasajeros.setter\n",
    "    def minimo_pasajeros(self, nuevo_minimo_pasajeros):\n",
    "        self.__minimo_pasajeros = nuevo_minimo_pasajeros\n",
    "\n",
    "class Vuelo_Internacional(Vuelo):\n",
    "    def __init__(self, numero, hora_salida, hora_llegada, pais_destino, codigo, nombre, precio_boleto):\n",
    "        super().__init__(numero, hora_salida, hora_llegada)\n",
    "        self.__pais_destino = pais_destino\n",
    "        self.pasajero = Pasajero(codigo, nombre, precio_boleto)\n",
    "    \n",
    "    @property\n",
    "    def pais_destino(self):\n",
    "        return self.__pais_destino\n",
    "    \n",
    "    @pais_destino.setter\n",
    "    def pais_destino(self, nuevo_pais_destino):\n",
    "        self.__pais_destino = nuevo_pais_destino\n",
    "    \n",
    "class Vuelo_Carga(Vuelo):\n",
    "    def __init__(self, numero, hora_salida, hora_llegada, peso_maximo):\n",
    "        super().__init__(numero, hora_salida, hora_llegada)\n",
    "        self.__peso_maximo = peso_maximo\n",
    "    \n",
    "    @property\n",
    "    def peso_maximo(self):\n",
    "        return self.__peso_maximo\n",
    "    \n",
    "    @peso_maximo.setter\n",
    "    def peso_maximo(self, nuevo_peso_maximo):\n",
    "        self.peso_maximo = nuevo_peso_maximo\n"
   ]
  },
  {
   "cell_type": "markdown",
   "metadata": {},
   "source": [
    " ### Instancia y pruebas"
   ]
  },
  {
   "cell_type": "code",
   "execution_count": 97,
   "metadata": {},
   "outputs": [
    {
     "name": "stdout",
     "output_type": "stream",
     "text": [
      "2019-03-27 17:05:28\n",
      "2019-03-27 19:05:28\n",
      "Informacion de vuelo local: \n",
      "\n",
      "\n",
      "Número - 1320\n",
      "\n",
      "Hora de salida - 2019-03-27 17:05:28.971410\n",
      "\n",
      "Hora de llegada - 2019-03-27 19:05:28.971410\n",
      "\n",
      "Mínimo de Pasajeros - 10\n",
      "\n"
     ]
    }
   ],
   "source": [
    "now = datetime.now()\n",
    "later = now + timedelta(hours=2)\n",
    "print(format(now, '%Y-%m-%d %H:%M:%S'))\n",
    "print(format(later, '%Y-%m-%d %H:%M:%S'))\n",
    "vueloLocal = Vuelo_Local(1320, now, later, 10, 1, 'Jon', 400)\n",
    "\n",
    "print(f\"Informacion de vuelo local: \\n\\n\")\n",
    "print(f\"Número - {vueloLocal.numero}\\n\")\n",
    "print(f\"Hora de salida - {vueloLocal.hora_salida}\\n\")\n",
    "print(f\"Hora de llegada - {vueloLocal.hora_llegada}\\n\")\n",
    "print(f\"Mínimo de Pasajeros - {vueloLocal.minimo_pasajeros}\\n\")\n"
   ]
  },
  {
   "cell_type": "markdown",
   "metadata": {},
   "source": [
    " ## Ejercicio # 4\n",
    " Agregue a la clase class mi DF() vista en clase los siguientes metodos:\n",
    " * Retorna la cantidad de entradas de este DataFrame que son divisibles entre 3\n",
    " * Recibe dos números de columna y que retorna en una lista con el nombre de las variables\n",
    " correspondientes a las columnas, la covarianza y la correlación entre esas dos variables\n",
    " ### Código de la clase"
   ]
  },
  {
   "cell_type": "code",
   "execution_count": 98,
   "metadata": {},
   "outputs": [],
   "source": [
    "class mi_DF():\n",
    "    def __init__(self, DF = pd.DataFrame()):\n",
    "        self.__num_filas = DF.shape[0]\n",
    "        self.__num_columnas = DF.shape[1]\n",
    "        self.__DF = DF\n",
    "    @property\n",
    "    def num_filas(self):\n",
    "        return self.__num_filas\n",
    "    @property\n",
    "    def num_columnas(self):\n",
    "        return self.__num_columnas\n",
    "    @property\n",
    "    def DF(self):\n",
    "        return self.__DF  \n",
    "    def maximo(self):\n",
    "        max = self.DF.iloc[0,0]\n",
    "        for i in range(self.num_filas):\n",
    "            for j in range(self.num_columnas):\n",
    "                if self.DF.iloc[i,j] > max:\n",
    "                    max = self.DF.iloc[i,j]\n",
    "        return max\n",
    "    def valores(self):\n",
    "        min = self.DF.iloc[0,0]\n",
    "        max = self.DF.iloc[0,0]\n",
    "        total_ceros = 0\n",
    "        total_pares = 0\n",
    "        divisibles3 = 0\n",
    "        for i in range(self.num_filas):\n",
    "            for j in range(self.num_columnas):\n",
    "                if self.DF.iloc[i,j] > max:\n",
    "                    max = self.DF.iloc[i,j]\n",
    "                if self.DF.iloc[i,j] < min:\n",
    "                    min = self.DF.iloc[i,j]\n",
    "                if self.DF.iloc[i,j] == 0:\n",
    "                    total_ceros = total_ceros+1\n",
    "                if self.DF.iloc[i,j] % 2 == 0:\n",
    "                    total_pares = total_pares+1\n",
    "                if self.DF.iloc[i,j] % 3 == 0:\n",
    "                    divisibles3 = divisibles3+1\n",
    "        return {'Maximo' : max, 'Minimo' : min, 'Total_Ceros' : total_ceros, 'Pares' : total_pares, 'Divisibles_entre_3' : divisibles3}\n",
    "    def estadisticas(self,nc):\n",
    "        media = np.mean(self.DF.iloc[:,nc])\n",
    "        mediana = np.median(self.DF.iloc[:,nc])\n",
    "        deviacion = np.std(self.DF.iloc[:,nc])\n",
    "        varianza = np.var(self.DF.iloc[:,nc])\n",
    "        maximo = np.max(self.DF.iloc[:,nc])\n",
    "        minimo = np.min(self.DF.iloc[:,nc])\n",
    "        return {'Variable' : self.DF.columns.values[nc],\n",
    "                'Media' : media,\n",
    "                'Mediana' : mediana,\n",
    "                'DesEst' : deviacion,\n",
    "                'Varianza' : varianza,\n",
    "                'Maximo' : maximo,\n",
    "                'Minimo' : minimo}\n",
    "    \n",
    "    def obtiene_corr_y_cof(self, c1, c2):\n",
    "        return [self.DF.columns[c1], self.DF.columns[c2], self.covarianza(c1, c2), self.correlacion(c1, c2) ] \n",
    "    \n",
    "    def correlacion(self, c1, c2):\n",
    "        return np.corrcoef(self.DF.iloc[:, c1], self.DF.iloc[:, c2])\n",
    "    \n",
    "    def covarianza(self, c1, c2):\n",
    "        return np.cov(self.DF.iloc[:, c1], self.DF.iloc[:, c2])"
   ]
  },
  {
   "cell_type": "markdown",
   "metadata": {},
   "source": [
    " ### Instancia y pruebas"
   ]
  },
  {
   "cell_type": "code",
   "execution_count": 99,
   "metadata": {},
   "outputs": [
    {
     "name": "stdout",
     "output_type": "stream",
     "text": [
      "  Unnamed: 0  Matematicas  Ciencias  Espanol  Historia  EdFisica\n",
      "0      Lucia          7.0       6.5      9.2       8.6       8.0\n",
      "1      Pedro          7.5       9.4      7.3       7.0       7.0\n",
      "2       Ines          7.6       9.2      8.0       8.0       7.5\n",
      "3       Luis          5.0       6.5      6.5       7.0       9.0\n",
      "4     Andres          6.0       6.0      7.8       8.9       7.3\n",
      "5        Ana          7.8       9.6      7.7       8.0       6.5\n",
      "6     Carlos          6.3       6.4      8.2       9.0       7.2\n",
      "7       Jose          7.9       9.7      7.5       8.0       6.0\n",
      "8      Sonia          6.0       6.0      6.5       5.5       8.7\n",
      "9      Maria          6.8       7.2      8.7       9.0       7.0\n",
      "\n",
      "\n",
      "La covarianza entre las Columnas Espanol y Historia es:\n",
      "\n",
      " [[0.74044444 0.79222222]\n",
      " [0.79222222 1.25777778]]\n",
      "\n",
      "\n",
      "La correlacion entre las Columnas Espanol y Historia es:\n",
      "\n",
      " [[1.         0.82091619]\n",
      " [0.82091619 1.        ]]\n",
      "\n",
      "\n"
     ]
    }
   ],
   "source": [
    "archivoEst = pd.read_csv('EjemploEstudiantes.csv',delimiter=';',decimal=\",\")\n",
    "datos = mi_DF(archivoEst)\n",
    "print(f\"{archivoEst}\\n\\n\")\n",
    "print(f\"La covarianza entre las Columnas {str(datos.obtiene_corr_y_cof(3,4)[0])} y {str(datos.obtiene_corr_y_cof(3,4)[1])} es:\\n\\n {str(datos.obtiene_corr_y_cof(3,4)[2])}\\n\\n\")\n",
    "print(f\"La correlacion entre las Columnas {str(datos.obtiene_corr_y_cof(3,4)[0])} y {str(datos.obtiene_corr_y_cof(3,4)[1])} es:\\n\\n {str(datos.obtiene_corr_y_cof(3,4)[3])}\\n\\n\")\n"
   ]
  },
  {
   "cell_type": "markdown",
   "metadata": {},
   "source": [
    " ## Ejercicio # 4\n",
    " Desarrolle una clase denominada Matriz que tiene como atributos una matriz tipo numpy, el\n",
    " numero de filas y el numero de columnas. Ademas tiene metodos que calculan la suma total de\n",
    " la matriz, la suma de una fila dada (el numero de fila es un parametro del metodo), la suma\n",
    " de una columna dada (el numero de columna es un parametro del metodo), la suma de todas\n",
    " las entradas de la matriz en valor absoluto y a suma de todas las entradas de la matriz al\n",
    " cuadrado.\n",
    " ### Código de la clase"
   ]
  },
  {
   "cell_type": "code",
   "execution_count": 100,
   "metadata": {},
   "outputs": [],
   "source": [
    "class Matriz():\n",
    "    def __init__(self, mtx = np.matrix([])):\n",
    "        self.__nf = mtx.shape[0]\n",
    "        self.__nc = mtx.shape[1]\n",
    "        self.__matrix = mtx\n",
    "    \n",
    "    @property\n",
    "    def numero_filas(self):\n",
    "        return self.__nf\n",
    "    \n",
    "    @property\n",
    "    def numero_columnas(self):\n",
    "        return self.__nc\n",
    "    \n",
    "    @property\n",
    "    def matrix(self):\n",
    "        return self.__matrix\n",
    "    \n",
    "    def suma_total(self):\n",
    "        return self.matrix.sum()\n",
    "    \n",
    "    def suma_fila(self, fila):\n",
    "        return self.matrix.sum(axis=1,)[fila]\n",
    "    \n",
    "    def suma_columna(self, columna):\n",
    "        return self.matrix.sum(axis=0)[columna]\n",
    "    \n",
    "    def suma_valor_absoluto(self):\n",
    "        return abs(self.matrix.sum())\n",
    "    \n",
    "    def suma_cuadrados(self):\n",
    "        return self.matrix.sum()**2\n"
   ]
  },
  {
   "cell_type": "markdown",
   "metadata": {},
   "source": [
    " ### Instancia y pruebas"
   ]
  },
  {
   "cell_type": "code",
   "execution_count": 101,
   "metadata": {},
   "outputs": [
    {
     "name": "stdout",
     "output_type": "stream",
     "text": [
      "Dada la matriz: \n",
      "\n",
      "[[ 1  8]\n",
      " [16 -2]\n",
      " [10 -8]]\n",
      "\n",
      "\n",
      "La suma de todos los elementos es: 25\n",
      "La suma de los elementos de la fila 1 es: [[14]]\n",
      "La suma de los elementos de la fila 1 es: [[14]]\n",
      "La suma del valor absoluto de todos los elementos es: 25\n",
      "La suma de los cuadrados de todos los elementos es: 625\n"
     ]
    }
   ],
   "source": [
    "mtx = np.matrix('1 8; 16 -2; 10 -8')\n",
    "fila = 1\n",
    "columna = 0\n",
    "matrix = Matriz(mtx)\n",
    "\n",
    "print(f\"Dada la matriz: \\n\\n{str(mtx)}\\n\\n\")\n",
    "print(f\"La suma de todos los elementos es: {matrix.suma_total()}\")\n",
    "print(f\"La suma de los elementos de la fila {fila} es: {matrix.suma_fila(fila)}\")\n",
    "print(f\"La suma de los elementos de la fila {fila} es: {matrix.suma_fila(fila)}\")\n",
    "print(f\"La suma del valor absoluto de todos los elementos es: {matrix.suma_valor_absoluto()}\")\n",
    "print(f\"La suma de los cuadrados de todos los elementos es: {matrix.suma_cuadrados()}\")\n",
    "\n",
    "\n"
   ]
  },
  {
   "cell_type": "code",
   "execution_count": 102,
   "metadata": {},
   "outputs": [],
   "source": []
  }
 ],
 "metadata": {
  "file_extension": ".py",
  "kernelspec": {
   "display_name": "Python 3",
   "language": "python",
   "name": "python3"
  },
  "language_info": {
   "codemirror_mode": {
    "name": "ipython",
    "version": 3
   },
   "file_extension": ".py",
   "mimetype": "text/x-python",
   "name": "python",
   "nbconvert_exporter": "python",
   "pygments_lexer": "ipython3",
   "version": "3.7.1"
  },
  "mimetype": "text/x-python",
  "name": "python",
  "npconvert_exporter": "python",
  "pygments_lexer": "ipython3",
  "version": 3
 },
 "nbformat": 4,
 "nbformat_minor": 2
}
