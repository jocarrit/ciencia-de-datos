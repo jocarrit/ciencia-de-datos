{
 "cells": [
  {
   "cell_type": "code",
   "execution_count": 0,
   "metadata": {},
   "outputs": [],
   "source": [
    "# Change directory to VSCode workspace root so that relative path loads work correctly. Turn this addition off with the DataScience.changeDirOnImportExport setting\n",
    "import os\n",
    "try:\n",
    "\tos.chdir(os.path.join(os.getcwd(), '..\\..'))\n",
    "\tprint(os.getcwd())\n",
    "except:\n",
    "\tpass\n"
   ]
  },
  {
   "cell_type": "code",
   "execution_count": 1,
   "metadata": {},
   "outputs": [],
   "source": [
    "def ObtenerMayor(a ,b):\n",
    "    \"\"\"Devuelve el numero mayor\n",
    "    \n",
    "    Arguments:\n",
    "        a {[int]} \n",
    "        b {[int]}\n",
    "    \"\"\"\n",
    "\n",
    "    if (a > b):\n",
    "        return a\n",
    "    elif(b > a):\n",
    "        return b\n",
    "    else:\n",
    "        return None"
   ]
  },
  {
   "cell_type": "code",
   "execution_count": 2,
   "metadata": {},
   "outputs": [],
   "source": [
    "def ObtenerMayor(a ,b):\n",
    "    \"\"\"Devuelve el numero mayor\n",
    "    \n",
    "    Arguments:\n",
    "        a {[int]} \n",
    "        b {[int]}\n",
    "    \"\"\"\n",
    "\n",
    "    if (a > b):\n",
    "        return a\n",
    "    elif(b > a):\n",
    "        return b\n",
    "    else:\n",
    "        return None"
   ]
  },
  {
   "cell_type": "code",
   "execution_count": 3,
   "metadata": {},
   "outputs": [],
   "source": [
    "def ObtenerMayor(a ,b):\n",
    "    \"\"\"Devuelve el numero mayor\n",
    "    \n",
    "    Arguments:\n",
    "        a {[int]} \n",
    "        b {[int]}\n",
    "    \"\"\"\n",
    "\n",
    "    if (a > b):\n",
    "        return a\n",
    "    elif(b > a):\n",
    "        return b\n",
    "    else:\n",
    "        return None"
   ]
  },
  {
   "cell_type": "code",
   "execution_count": 4,
   "metadata": {},
   "outputs": [
    {
     "name": "stdout",
     "output_type": "stream",
     "text": [
      "3\n"
     ]
    }
   ],
   "source": [
    "import ciencia_datos as cd\n",
    "\n",
    "a = 2\n",
    "b = 3\n",
    "\n",
    "print(cd.ObtenerMayor(a, b))"
   ]
  },
  {
   "cell_type": "code",
   "execution_count": 5,
   "metadata": {},
   "outputs": [
    {
     "name": "stdout",
     "output_type": "stream",
     "text": [
      "5\n"
     ]
    }
   ],
   "source": [
    "import ciencia_datos as cd\n",
    "\n",
    "a = 5\n",
    "b = 3\n",
    "\n",
    "print(cd.ObtenerMayor(a, b))"
   ]
  },
  {
   "cell_type": "code",
   "execution_count": 6,
   "metadata": {},
   "outputs": [
    {
     "name": "stdout",
     "output_type": "stream",
     "text": [
      "None\n"
     ]
    }
   ],
   "source": [
    "import ciencia_datos as cd\n",
    "\n",
    "a = 5\n",
    "b = 5\n",
    "\n",
    "print(cd.ObtenerMayor(a, b))"
   ]
  },
  {
   "cell_type": "code",
   "execution_count": 7,
   "metadata": {},
   "outputs": [
    {
     "name": "stdout",
     "output_type": "stream",
     "text": [
      "None\n"
     ]
    }
   ],
   "source": [
    "import ciencia_datos as cd\n",
    "\n",
    "a = 5\n",
    "b = 5\n",
    "\n",
    "print(cd.ObtenerMayor(a, b))\n",
    "\n"
   ]
  },
  {
   "cell_type": "code",
   "execution_count": 8,
   "metadata": {},
   "outputs": [],
   "source": []
  }
 ],
 "metadata": {
  "file_extension": ".py",
  "kernelspec": {
   "display_name": "Python 3",
   "language": "python",
   "name": "python3"
  },
  "language_info": {
   "codemirror_mode": {
    "name": "ipython",
    "version": 3
   },
   "file_extension": ".py",
   "mimetype": "text/x-python",
   "name": "python",
   "nbconvert_exporter": "python",
   "pygments_lexer": "ipython3",
   "version": "3.7.1"
  },
  "mimetype": "text/x-python",
  "name": "python",
  "npconvert_exporter": "python",
  "pygments_lexer": "ipython3",
  "version": 3
 },
 "nbformat": 4,
 "nbformat_minor": 2
}
